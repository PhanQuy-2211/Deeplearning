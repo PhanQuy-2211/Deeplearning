{
  "cells": [
    {
      "cell_type": "code",
      "execution_count": 2,
      "id": "f32e50c2",
      "metadata": {
        "colab": {
          "base_uri": "https://localhost:8080/"
        },
        "id": "f32e50c2",
        "outputId": "c4691ee5-197a-4af9-a669-4aeb9bb388fb"
      },
      "outputs": [
        {
          "data": {
            "text/plain": [
              "True"
            ]
          },
          "execution_count": 2,
          "metadata": {},
          "output_type": "execute_result"
        }
      ],
      "source": [
        "\n",
        "import pandas as pd\n",
        "import numpy as np\n",
        "import torch\n",
        "import torch.nn as nn\n",
        "import torch.optim as optim\n",
        "from torch.utils.data import Dataset, DataLoader\n",
        "from sklearn.preprocessing import LabelEncoder\n",
        "from sklearn.metrics import classification_report, confusion_matrix\n",
        "import matplotlib.pyplot as plt\n",
        "import seaborn as sns\n",
        "from collections import Counter\n",
        "from torch.nn.utils.rnn import pad_sequence\n",
        "import nltk\n",
        "from nltk.tokenize import word_tokenize\n",
        "nltk.download('punkt', quiet=True)"
      ]
    },
    {
      "cell_type": "code",
      "execution_count": 4,
      "id": "282a4b79",
      "metadata": {
        "id": "282a4b79"
      },
      "outputs": [],
      "source": [
        "try:\n",
        "    # Thử đọc với giả định có header\n",
        "    train_data = pd.read_csv('/content/drive/MyDrive/train_02.csv')\n",
        "    test_data = pd.read_csv('/content/drive/MyDrive/test_02.csv')\n",
        "\n",
        "    # Kiểm tra xem có cột 'Class Index' không\n",
        "    if 'Class Index' in train_data.columns:\n",
        "        # Đổi tên cột cho phù hợp\n",
        "        train_data = train_data.rename(columns={'Class Index': 'class_index'})\n",
        "        test_data = test_data.rename(columns={'Class Index': 'class_index'})\n",
        "\n",
        "    # Tìm cột mô tả\n",
        "    desc_column = [col for col in train_data.columns if col != 'class_index'][0]\n",
        "    train_data = train_data.rename(columns={desc_column: 'description'})\n",
        "    test_data = test_data.rename(columns={desc_column: 'description'})\n",
        "\n",
        "except Exception as e:\n",
        "    print(f\"Thử đọc lại với định dạng khác: {e}\")\n",
        "    # Thử lại với định dạng không có header\n",
        "    train_data = pd.read_csv('train_02.csv', header=None, names=['class_index', 'description'])\n",
        "    test_data = pd.read_csv('test_02.csv', header=None, names=['class_index', 'description'])"
      ]
    },
    {
      "cell_type": "code",
      "execution_count": 5,
      "id": "6c97d77e",
      "metadata": {
        "id": "6c97d77e"
      },
      "outputs": [],
      "source": [
        "if isinstance(train_data['class_index'].iloc[0], str) and train_data['class_index'].iloc[0].lower() in ['class index', 'class_index', 'classindex']:\n",
        "    print(\"Phát hiện dòng tiêu đề, loại bỏ dòng đầu tiên...\")\n",
        "    train_data = train_data.iloc[1:].reset_index(drop=True)\n",
        "    test_data = test_data.iloc[1:].reset_index(drop=True)"
      ]
    },
    {
      "cell_type": "code",
      "execution_count": 6,
      "id": "568529d6",
      "metadata": {
        "colab": {
          "base_uri": "https://localhost:8080/"
        },
        "id": "568529d6",
        "outputId": "19874258-37f5-4fad-c24f-f405ce28a120"
      },
      "outputs": [
        {
          "name": "stdout",
          "output_type": "stream",
          "text": [
            "- Tập huấn luyện: 120000 mẫu\n",
            "- Tập kiểm thử: 7600 mẫu\n",
            "\n",
            "Các cột trong dữ liệu:\n",
            "['class_index', 'description']\n",
            "\n",
            "Xem 5 mẫu đầu tiên:\n",
            "   class_index                                        description\n",
            "0            3  Reuters - Short-sellers, Wall Street's dwindli...\n",
            "1            3  Reuters - Private investment firm Carlyle Grou...\n",
            "2            3  Reuters - Soaring crude prices plus worries\\ab...\n",
            "3            3  Reuters - Authorities have halted oil export\\f...\n",
            "4            3  AFP - Tearaway world oil prices, toppling reco...\n"
          ]
        }
      ],
      "source": [
        "print(f\"- Tập huấn luyện: {len(train_data)} mẫu\")\n",
        "print(f\"- Tập kiểm thử: {len(test_data)} mẫu\")\n",
        "print(\"\\nCác cột trong dữ liệu:\")\n",
        "print(train_data.columns.tolist())\n",
        "print(\"\\nXem 5 mẫu đầu tiên:\")\n",
        "print(train_data.head(5))"
      ]
    },
    {
      "cell_type": "code",
      "execution_count": 7,
      "id": "402e1bf7",
      "metadata": {
        "colab": {
          "base_uri": "https://localhost:8080/"
        },
        "id": "402e1bf7",
        "outputId": "cb61376e-87b9-4b0b-adfb-3a9d964d6530"
      },
      "outputs": [
        {
          "name": "stdout",
          "output_type": "stream",
          "text": [
            "\n",
            "Phân bố lớp trong tập huấn luyện:\n",
            "Lớp 1 (World): 30000 mẫu\n",
            "Lớp 2 (Sports): 30000 mẫu\n",
            "Lớp 3 (Business): 30000 mẫu\n",
            "Lớp 4 (Science and Technology): 30000 mẫu\n"
          ]
        }
      ],
      "source": [
        "print(\"\\nPhân bố lớp trong tập huấn luyện:\")\n",
        "class_mapping = {'1': 'World', '2': 'Sports', '3': 'Business', '4': 'Science and Technology'}\n",
        "\n",
        "train_class_str = []\n",
        "for label in train_data['class_index']:\n",
        "    try:\n",
        "        # Nếu là số, chuyển thành chuỗi\n",
        "        train_class_str.append(str(int(label)))\n",
        "    except:\n",
        "        # Nếu đã là chuỗi, kiểm tra giá trị\n",
        "        if isinstance(label, str):\n",
        "            if label.lower() == 'world':\n",
        "                train_class_str.append('1')\n",
        "            elif label.lower() == 'sports':\n",
        "                train_class_str.append('2')\n",
        "            elif label.lower() == 'business':\n",
        "                train_class_str.append('3')\n",
        "            elif label.lower() in ['science and technology', 'science', 'technology']:\n",
        "                train_class_str.append('4')\n",
        "            else:\n",
        "                train_class_str.append(label)\n",
        "\n",
        "train_class_counts = pd.Series(train_class_str).value_counts().sort_index()\n",
        "for idx, count in train_class_counts.items():\n",
        "    if idx in class_mapping:\n",
        "        print(f\"Lớp {idx} ({class_mapping[idx]}): {count} mẫu\")\n",
        "    else:\n",
        "        print(f\"Lớp {idx} (Không xác định): {count} mẫu\")"
      ]
    },
    {
      "cell_type": "code",
      "execution_count": 8,
      "id": "a872de35",
      "metadata": {
        "id": "a872de35"
      },
      "outputs": [],
      "source": [
        "def build_vocab(texts, max_vocab_size=10000):\n",
        "    word_counter = Counter()\n",
        "    for text in texts:\n",
        "        tokens = word_tokenize(text.lower())\n",
        "        word_counter.update(tokens)\n",
        "\n",
        "    vocab = {'<PAD>': 0, '<UNK>': 1}\n",
        "    for word, _ in word_counter.most_common(max_vocab_size - 2):\n",
        "        vocab[word] = len(vocab)\n",
        "\n",
        "    return vocab\n",
        "\n",
        "def text_to_indices(text, vocab):\n",
        "    tokens = word_tokenize(text.lower())\n",
        "    return [vocab.get(token, vocab['<UNK>']) for token in tokens]"
      ]
    },
    {
      "cell_type": "code",
      "execution_count": 9,
      "id": "4c7c7532",
      "metadata": {
        "colab": {
          "base_uri": "https://localhost:8080/"
        },
        "id": "4c7c7532",
        "outputId": "5c654eec-1685-4a3d-c81f-ba4cf65ba8cb"
      },
      "outputs": [
        {
          "name": "stdout",
          "output_type": "stream",
          "text": [
            "\n",
            "Kích thước từ điển: 10000 từ\n"
          ]
        }
      ],
      "source": [
        "vocab = build_vocab(train_data['description'].values)\n",
        "vocab_size = len(vocab)\n",
        "print(f\"\\nKích thước từ điển: {vocab_size} từ\")"
      ]
    },
    {
      "cell_type": "code",
      "execution_count": 10,
      "id": "fd2f7fd2",
      "metadata": {
        "id": "fd2f7fd2"
      },
      "outputs": [],
      "source": [
        "max_sequence_length = 100  # Độ dài tối đa cho mỗi câu\n",
        "embedding_dim = 128  # Kích thước vector embedding\n",
        "hidden_dim = 128  # Kích thước hidden state của LSTM\n",
        "num_classes = 4  # Số lượng chủ đề cần phân loại\n",
        "batch_size = 32  # Kích thước batch\n",
        "num_epochs = 10  # Số epoch"
      ]
    },
    {
      "cell_type": "code",
      "execution_count": 11,
      "id": "9eb3ee56",
      "metadata": {
        "id": "9eb3ee56"
      },
      "outputs": [],
      "source": [
        "train_labels = []\n",
        "for label in train_data['class_index']:\n",
        "    try:\n",
        "        # Cố gắng chuyển đổi thành số nguyên và trừ 1\n",
        "        train_labels.append(int(label) - 1)\n",
        "    except ValueError:\n",
        "        # Nếu không phải số nguyên, kiểm tra giá trị chuỗi\n",
        "        if isinstance(label, str) and label.lower() in ['world', '1']:\n",
        "            train_labels.append(0)\n",
        "        elif isinstance(label, str) and label.lower() in ['sports', '2']:\n",
        "            train_labels.append(1)\n",
        "        elif isinstance(label, str) and label.lower() in ['business', '3']:\n",
        "            train_labels.append(2)\n",
        "        elif isinstance(label, str) and label.lower() in ['science and technology', 'science', 'technology', '4']:\n",
        "            train_labels.append(3)\n",
        "        else:\n",
        "            # Giá trị không hợp lệ, gán giá trị mặc định\n",
        "            print(f\"Giá trị không hợp lệ: {label}, gán nhãn 0\")\n",
        "            train_labels.append(0)"
      ]
    },
    {
      "cell_type": "code",
      "execution_count": 12,
      "id": "41400c23",
      "metadata": {
        "id": "41400c23"
      },
      "outputs": [],
      "source": [
        "test_labels = []\n",
        "for label in test_data['class_index']:\n",
        "    try:\n",
        "        test_labels.append(int(label) - 1)\n",
        "    except ValueError:\n",
        "        if isinstance(label, str) and label.lower() in ['world', '1']:\n",
        "            test_labels.append(0)\n",
        "        elif isinstance(label, str) and label.lower() in ['sports', '2']:\n",
        "            test_labels.append(1)\n",
        "        elif isinstance(label, str) and label.lower() in ['business', '3']:\n",
        "            test_labels.append(2)\n",
        "        elif isinstance(label, str) and label.lower() in ['science and technology', 'science', 'technology', '4']:\n",
        "            test_labels.append(3)\n",
        "        else:\n",
        "            print(f\"Giá trị không hợp lệ: {label}, gán nhãn 0\")\n",
        "            test_labels.append(0)\n"
      ]
    },
    {
      "cell_type": "code",
      "execution_count": 13,
      "id": "f4198756",
      "metadata": {
        "id": "f4198756"
      },
      "outputs": [],
      "source": [
        "train_labels = np.array(train_labels)\n",
        "test_labels = np.array(test_labels)"
      ]
    },
    {
      "cell_type": "code",
      "execution_count": 14,
      "id": "411a6d83",
      "metadata": {
        "id": "411a6d83"
      },
      "outputs": [],
      "source": [
        "class NewsDataset(Dataset):\n",
        "    def __init__(self, texts, labels, vocab, max_len):\n",
        "        self.texts = texts\n",
        "        self.labels = labels\n",
        "        self.vocab = vocab\n",
        "        self.max_len = max_len\n",
        "\n",
        "    def __len__(self):\n",
        "        return len(self.texts)\n",
        "\n",
        "    def __getitem__(self, idx):\n",
        "        text = self.texts[idx]\n",
        "        indices = text_to_indices(text, self.vocab)\n",
        "\n",
        "        # Cắt ngắn hoặc padding để đạt độ dài cố định\n",
        "        if len(indices) > self.max_len:\n",
        "            indices = indices[:self.max_len]\n",
        "        else:\n",
        "            # Padding với 0 (chỉ số của <PAD>)\n",
        "            indices = indices + [0] * (self.max_len - len(indices))\n",
        "\n",
        "        return torch.tensor(indices, dtype=torch.long), torch.tensor(self.labels[idx], dtype=torch.long)\n"
      ]
    },
    {
      "cell_type": "code",
      "execution_count": 15,
      "id": "23432269",
      "metadata": {
        "id": "23432269"
      },
      "outputs": [],
      "source": [
        "train_dataset = NewsDataset(train_data['description'].values, train_labels, vocab, max_sequence_length)\n",
        "test_dataset = NewsDataset(test_data['description'].values, test_labels, vocab, max_sequence_length)\n",
        "\n",
        "train_loader = DataLoader(train_dataset, batch_size=batch_size, shuffle=True)\n",
        "test_loader = DataLoader(test_dataset, batch_size=batch_size)\n"
      ]
    },
    {
      "cell_type": "code",
      "execution_count": 16,
      "id": "bb3cfdc6",
      "metadata": {
        "id": "bb3cfdc6"
      },
      "outputs": [],
      "source": [
        "class NewsClassifier(nn.Module):\n",
        "    def __init__(self, vocab_size, embedding_dim, hidden_dim, num_layers, num_classes, dropout_rate=0.3):\n",
        "        super(NewsClassifier, self).__init__()\n",
        "\n",
        "        # Embedding layer\n",
        "        self.embedding = nn.Embedding(vocab_size, embedding_dim)\n",
        "\n",
        "        # Spatial Dropout (dropout trên chiều đặc trưng)\n",
        "        self.spatial_dropout = nn.Dropout2d(dropout_rate)\n",
        "\n",
        "        # 3 lớp LSTM (stacked)\n",
        "        self.lstm = nn.LSTM(\n",
        "            input_size=embedding_dim,\n",
        "            hidden_size=hidden_dim,\n",
        "            num_layers=num_layers,\n",
        "            batch_first=True,\n",
        "            dropout=dropout_rate if num_layers > 1 else 0,\n",
        "            bidirectional=True\n",
        "        )\n",
        "\n",
        "        # Fully connected layers\n",
        "        self.fc1 = nn.Linear(hidden_dim * 2, hidden_dim)  # *2 vì bidirectional\n",
        "        self.dropout = nn.Dropout(dropout_rate)\n",
        "        self.bn = nn.BatchNorm1d(hidden_dim)\n",
        "        self.relu = nn.ReLU()\n",
        "        self.fc2 = nn.Linear(hidden_dim, num_classes)\n",
        "\n",
        "    def forward(self, x):\n",
        "        # x shape: (batch_size, sequence_length)\n",
        "\n",
        "        # Embedding layer\n",
        "        x = self.embedding(x)  # (batch_size, sequence_length, embedding_dim)\n",
        "\n",
        "        # Áp dụng spatial dropout\n",
        "        x = x.permute(0, 2, 1)  # (batch_size, embedding_dim, sequence_length)\n",
        "        x = self.spatial_dropout(x)\n",
        "        x = x.permute(0, 2, 1)  # (batch_size, sequence_length, embedding_dim)\n",
        "\n",
        "        # LSTM layers\n",
        "        lstm_out, _ = self.lstm(x)  # (batch_size, sequence_length, hidden_dim*2)\n",
        "\n",
        "        # Lấy output của timestep cuối cùng\n",
        "        lstm_out = lstm_out[:, -1, :]  # (batch_size, hidden_dim*2)\n",
        "\n",
        "        # Fully connected layers\n",
        "        out = self.fc1(lstm_out)\n",
        "        out = self.bn(out)\n",
        "        out = self.relu(out)\n",
        "        out = self.dropout(out)\n",
        "        out = self.fc2(out)\n",
        "\n",
        "        return out"
      ]
    },
    {
      "cell_type": "code",
      "execution_count": 17,
      "id": "d334ab33",
      "metadata": {
        "id": "d334ab33"
      },
      "outputs": [],
      "source": [
        "def print_model_info(model, max_len):\n",
        "    \"\"\"In thông tin chi tiết về mô hình\"\"\"\n",
        "    print(\"\\n\" + \"=\"*80)\n",
        "    print(\"THÔNG TIN CHI TIẾT MÔ HÌNH\")\n",
        "    print(\"=\"*80)\n",
        "\n",
        "    # Bảng thông tin các lớp\n",
        "    print(\"\\nBẢNG THÔNG TIN CÁC LỚP TRONG MÔ HÌNH:\")\n",
        "    print(\"-\" * 120)\n",
        "    print(f\"{'Tên lớp':<20} {'Hàm kích hoạt':<15} {'Đầu vào':<25} {'Đầu ra':<25} {'Timesteps':<12} {'Tham số':<15}\")\n",
        "    print(\"-\" * 120)\n",
        "\n",
        "    # Embedding Layer\n",
        "    embed_params = model.embedding.weight.numel()\n",
        "    print(f\"{'Embedding':<20} {'None':<15} {f'({model.embedding.num_embeddings})':<25} {f'({model.embedding.num_embeddings}, {model.embedding.embedding_dim})':<25} {'N/A':<12} {embed_params:<15}\")\n",
        "\n",
        "    # Spatial Dropout\n",
        "    print(f\"{'Spatial Dropout':<20} {'None':<15} {f'({max_len}, {model.embedding.embedding_dim})':<25} {f'({max_len}, {model.embedding.embedding_dim})':<25} {'N/A':<12} {'0':<15}\")\n",
        "\n",
        "    # LSTM Layer (Bidirectional)\n",
        "    lstm_params = sum(p.numel() for p in model.lstm.parameters())\n",
        "    print(f\"{'LSTM':<20} {'tanh, sigmoid':<15} {f'({max_len}, {model.embedding.embedding_dim})':<25} {f'({max_len}, {model.lstm.hidden_size*2})':<25} {max_len:<12} {lstm_params:<15}\")\n",
        "\n",
        "    # Dropout\n",
        "    print(f\"{'Dropout':<20} {'None':<15} {f'({model.lstm.hidden_size*2})':<25} {f'({model.lstm.hidden_size*2})':<25} {'N/A':<12} {'0':<15}\")\n",
        "\n",
        "    # FC1 Layer\n",
        "    fc1_params = model.fc1.weight.numel() + model.fc1.bias.numel()\n",
        "    print(f\"{'FC1':<20} {'ReLU':<15} {f'({model.lstm.hidden_size*2})':<25} {f'({model.fc1.out_features})':<25} {'N/A':<12} {fc1_params:<15}\")\n",
        "\n",
        "    # BatchNorm Layer\n",
        "    bn_params = model.bn.weight.numel() + model.bn.bias.numel()\n",
        "    print(f\"{'BatchNorm':<20} {'None':<15} {f'({model.fc1.out_features})':<25} {f'({model.fc1.out_features})':<25} {'N/A':<12} {bn_params:<15}\")\n",
        "\n",
        "    # FC2 Layer\n",
        "    fc2_params = model.fc2.weight.numel() + model.fc2.bias.numel()\n",
        "    print(f\"{'FC2':<20} {'None':<15} {f'({model.fc1.out_features})':<25} {f'({model.fc2.out_features})':<25} {'N/A':<12} {fc2_params:<15}\")\n",
        "\n",
        "    print(\"-\" * 120)\n",
        "\n",
        "    # Tổng số tham số\n",
        "    total_params = sum(p.numel() for p in model.parameters())\n",
        "    trainable_params = sum(p.numel() for p in model.parameters() if p.requires_grad)\n",
        "\n",
        "    print(f\"\\nTỔNG SỐ THAM SỐ: {total_params:,}\")\n",
        "    print(f\"THAM SỐ CÓ THỂ HUẤN LUYỆN: {trainable_params:,}\")\n",
        "\n",
        "    # Chi tiết tham số từng lớp\n",
        "    print(f\"\\nCHI TIẾT SỐ THAM SỐ TỪNG LỚP:\")\n",
        "    print(\"-\" * 50)\n",
        "    for name, param in model.named_parameters():\n",
        "        print(f\"{name:<35}: {param.numel():>10,}\")\n",
        "    print(\"-\" * 50)"
      ]
    },
    {
      "cell_type": "code",
      "execution_count": 18,
      "id": "4dbb6acc",
      "metadata": {
        "colab": {
          "base_uri": "https://localhost:8080/"
        },
        "id": "4dbb6acc",
        "outputId": "f2d147b4-7b55-476c-af88-dd29965c8c95"
      },
      "outputs": [
        {
          "name": "stdout",
          "output_type": "stream",
          "text": [
            "Sử dụng thiết bị: cuda\n",
            "\n",
            "================================================================================\n",
            "THÔNG TIN CHI TIẾT MÔ HÌNH\n",
            "================================================================================\n",
            "\n",
            "BẢNG THÔNG TIN CÁC LỚP TRONG MÔ HÌNH:\n",
            "------------------------------------------------------------------------------------------------------------------------\n",
            "Tên lớp              Hàm kích hoạt   Đầu vào                   Đầu ra                    Timesteps    Tham số        \n",
            "------------------------------------------------------------------------------------------------------------------------\n",
            "Embedding            None            (10000)                   (10000, 128)              N/A          1280000        \n",
            "Spatial Dropout      None            (100, 128)                (100, 128)                N/A          0              \n",
            "LSTM                 tanh, sigmoid   (100, 128)                (100, 256)                100          1054720        \n",
            "Dropout              None            (256)                     (256)                     N/A          0              \n",
            "FC1                  ReLU            (256)                     (128)                     N/A          32896          \n",
            "BatchNorm            None            (128)                     (128)                     N/A          256            \n",
            "FC2                  None            (128)                     (4)                       N/A          516            \n",
            "------------------------------------------------------------------------------------------------------------------------\n",
            "\n",
            "TỔNG SỐ THAM SỐ: 2,368,388\n",
            "THAM SỐ CÓ THỂ HUẤN LUYỆN: 2,368,388\n",
            "\n",
            "CHI TIẾT SỐ THAM SỐ TỪNG LỚP:\n",
            "--------------------------------------------------\n",
            "embedding.weight                   :  1,280,000\n",
            "lstm.weight_ih_l0                  :     65,536\n",
            "lstm.weight_hh_l0                  :     65,536\n",
            "lstm.bias_ih_l0                    :        512\n",
            "lstm.bias_hh_l0                    :        512\n",
            "lstm.weight_ih_l0_reverse          :     65,536\n",
            "lstm.weight_hh_l0_reverse          :     65,536\n",
            "lstm.bias_ih_l0_reverse            :        512\n",
            "lstm.bias_hh_l0_reverse            :        512\n",
            "lstm.weight_ih_l1                  :    131,072\n",
            "lstm.weight_hh_l1                  :     65,536\n",
            "lstm.bias_ih_l1                    :        512\n",
            "lstm.bias_hh_l1                    :        512\n",
            "lstm.weight_ih_l1_reverse          :    131,072\n",
            "lstm.weight_hh_l1_reverse          :     65,536\n",
            "lstm.bias_ih_l1_reverse            :        512\n",
            "lstm.bias_hh_l1_reverse            :        512\n",
            "lstm.weight_ih_l2                  :    131,072\n",
            "lstm.weight_hh_l2                  :     65,536\n",
            "lstm.bias_ih_l2                    :        512\n",
            "lstm.bias_hh_l2                    :        512\n",
            "lstm.weight_ih_l2_reverse          :    131,072\n",
            "lstm.weight_hh_l2_reverse          :     65,536\n",
            "lstm.bias_ih_l2_reverse            :        512\n",
            "lstm.bias_hh_l2_reverse            :        512\n",
            "fc1.weight                         :     32,768\n",
            "fc1.bias                           :        128\n",
            "bn.weight                          :        128\n",
            "bn.bias                            :        128\n",
            "fc2.weight                         :        512\n",
            "fc2.bias                           :          4\n",
            "--------------------------------------------------\n"
          ]
        }
      ],
      "source": [
        "device = torch.device('cuda' if torch.cuda.is_available() else 'cpu')\n",
        "print(f\"Sử dụng thiết bị: {device}\")\n",
        "\n",
        "model = NewsClassifier(\n",
        "    vocab_size=vocab_size,\n",
        "    embedding_dim=embedding_dim,\n",
        "    hidden_dim=hidden_dim,\n",
        "    num_layers=3,  # 3 lớp LSTM theo yêu cầu\n",
        "    num_classes=num_classes\n",
        ").to(device)\n",
        "\n",
        "print_model_info(model, max_sequence_length)"
      ]
    },
    {
      "cell_type": "code",
      "execution_count": 19,
      "id": "a5f7eb3f",
      "metadata": {
        "colab": {
          "base_uri": "https://localhost:8080/"
        },
        "id": "a5f7eb3f",
        "outputId": "479aa631-e1fe-4aa7-f6a2-450cd747499e"
      },
      "outputs": [
        {
          "name": "stdout",
          "output_type": "stream",
          "text": [
            "\n",
            "Thống kê tham số của mô hình:\n",
            "embedding.weight: 1,280,000 tham số\n",
            "lstm.weight_ih_l0: 65,536 tham số\n",
            "lstm.weight_hh_l0: 65,536 tham số\n",
            "lstm.bias_ih_l0: 512 tham số\n",
            "lstm.bias_hh_l0: 512 tham số\n",
            "lstm.weight_ih_l0_reverse: 65,536 tham số\n",
            "lstm.weight_hh_l0_reverse: 65,536 tham số\n",
            "lstm.bias_ih_l0_reverse: 512 tham số\n",
            "lstm.bias_hh_l0_reverse: 512 tham số\n",
            "lstm.weight_ih_l1: 131,072 tham số\n",
            "lstm.weight_hh_l1: 65,536 tham số\n",
            "lstm.bias_ih_l1: 512 tham số\n",
            "lstm.bias_hh_l1: 512 tham số\n",
            "lstm.weight_ih_l1_reverse: 131,072 tham số\n",
            "lstm.weight_hh_l1_reverse: 65,536 tham số\n",
            "lstm.bias_ih_l1_reverse: 512 tham số\n",
            "lstm.bias_hh_l1_reverse: 512 tham số\n",
            "lstm.weight_ih_l2: 131,072 tham số\n",
            "lstm.weight_hh_l2: 65,536 tham số\n",
            "lstm.bias_ih_l2: 512 tham số\n",
            "lstm.bias_hh_l2: 512 tham số\n",
            "lstm.weight_ih_l2_reverse: 131,072 tham số\n",
            "lstm.weight_hh_l2_reverse: 65,536 tham số\n",
            "lstm.bias_ih_l2_reverse: 512 tham số\n",
            "lstm.bias_hh_l2_reverse: 512 tham số\n",
            "fc1.weight: 32,768 tham số\n",
            "fc1.bias: 128 tham số\n",
            "bn.weight: 128 tham số\n",
            "bn.bias: 128 tham số\n",
            "fc2.weight: 512 tham số\n",
            "fc2.bias: 4 tham số\n",
            "Tổng số tham số: 2,368,388\n"
          ]
        }
      ],
      "source": [
        "total_params = 0\n",
        "print(\"\\nThống kê tham số của mô hình:\")\n",
        "for name, param in model.named_parameters():\n",
        "    param_count = param.numel()\n",
        "    total_params += param_count\n",
        "    print(f\"{name}: {param_count:,} tham số\")\n",
        "print(f\"Tổng số tham số: {total_params:,}\")"
      ]
    },
    {
      "cell_type": "code",
      "execution_count": 20,
      "id": "a72e50ed",
      "metadata": {
        "id": "a72e50ed"
      },
      "outputs": [],
      "source": [
        "criterion = nn.CrossEntropyLoss()\n",
        "optimizer = optim.Adam(model.parameters(), lr=0.001)"
      ]
    },
    {
      "cell_type": "code",
      "execution_count": 21,
      "id": "49e696a8",
      "metadata": {
        "colab": {
          "base_uri": "https://localhost:8080/"
        },
        "id": "49e696a8",
        "outputId": "54e9efd8-ac14-436b-d679-aa123be628fd"
      },
      "outputs": [
        {
          "name": "stderr",
          "output_type": "stream",
          "text": [
            "/usr/local/lib/python3.11/dist-packages/torch/optim/lr_scheduler.py:62: UserWarning: The verbose parameter is deprecated. Please use get_last_lr() to access the learning rate.\n",
            "  warnings.warn(\n"
          ]
        }
      ],
      "source": [
        "scheduler = optim.lr_scheduler.ReduceLROnPlateau(optimizer, 'min', patience=2, factor=0.5, verbose=True)\n"
      ]
    },
    {
      "cell_type": "code",
      "execution_count": 22,
      "id": "aa74e5db",
      "metadata": {
        "id": "aa74e5db"
      },
      "outputs": [],
      "source": [
        "train_losses = []\n",
        "valid_losses = []\n",
        "train_accuracy = []\n",
        "val_accuracy = []\n",
        "\n",
        "def train_epoch(model, data_loader, criterion, optimizer, device):\n",
        "    model.train()\n",
        "    running_loss = 0.0\n",
        "    correct = 0\n",
        "    total = 0\n",
        "\n",
        "    for inputs, labels in data_loader:\n",
        "        inputs, labels = inputs.to(device), labels.to(device)\n",
        "\n",
        "        # Zero the parameter gradients\n",
        "        optimizer.zero_grad()\n",
        "\n",
        "        # Forward pass\n",
        "        outputs = model(inputs)\n",
        "        loss = criterion(outputs, labels)\n",
        "\n",
        "        # Backward pass and optimize\n",
        "        loss.backward()\n",
        "        optimizer.step()\n",
        "\n",
        "        # Statistics\n",
        "        running_loss += loss.item() * inputs.size(0)\n",
        "        _, predicted = outputs.max(1)\n",
        "        total += labels.size(0)\n",
        "        correct += predicted.eq(labels).sum().item()\n",
        "\n",
        "    epoch_loss = running_loss / total\n",
        "    epoch_acc = correct / total\n",
        "    return epoch_loss, epoch_acc\n",
        "\n",
        "def evaluate(model, data_loader, criterion, device):\n",
        "    model.eval()\n",
        "    running_loss = 0.0\n",
        "    correct = 0\n",
        "    total = 0\n",
        "    all_preds = []\n",
        "    all_labels = []\n",
        "\n",
        "    with torch.no_grad():\n",
        "        for inputs, labels in data_loader:\n",
        "            inputs, labels = inputs.to(device), labels.to(device)\n",
        "\n",
        "            # Forward pass\n",
        "            outputs = model(inputs)\n",
        "            loss = criterion(outputs, labels)\n",
        "\n",
        "            # Statistics\n",
        "            running_loss += loss.item() * inputs.size(0)\n",
        "            _, predicted = outputs.max(1)\n",
        "            total += labels.size(0)\n",
        "            correct += predicted.eq(labels).sum().item()\n",
        "\n",
        "            all_preds.extend(predicted.cpu().numpy())\n",
        "            all_labels.extend(labels.cpu().numpy())\n",
        "\n",
        "    epoch_loss = running_loss / total\n",
        "    epoch_acc = correct / total\n",
        "    return epoch_loss, epoch_acc, all_preds, all_labels"
      ]
    },
    {
      "cell_type": "code",
      "execution_count": 23,
      "id": "bc5dcb1e",
      "metadata": {
        "colab": {
          "base_uri": "https://localhost:8080/"
        },
        "id": "bc5dcb1e",
        "outputId": "23848e4a-19db-4db8-a8a3-55eb38a12f76"
      },
      "outputs": [
        {
          "name": "stdout",
          "output_type": "stream",
          "text": [
            "\n",
            "Bắt đầu huấn luyện mô hình...\n"
          ]
        },
        {
          "name": "stderr",
          "output_type": "stream",
          "text": [
            "/usr/local/lib/python3.11/dist-packages/torch/nn/functional.py:1545: UserWarning: dropout2d: Received a 3D input to dropout2d and assuming that channel-wise 1D dropout behavior is desired - input is interpreted as shape (N, C, L), where C is the channel dim. This behavior will change in a future release to interpret the input as one without a batch dimension, i.e. shape (C, H, W). To maintain the 1D channel-wise dropout behavior, please switch to using dropout1d instead.\n",
            "  warnings.warn(\n"
          ]
        },
        {
          "name": "stdout",
          "output_type": "stream",
          "text": [
            "Epoch 1/10: Train Loss: 1.3962, Train Acc: 0.2496 | Val Loss: 1.3870, Val Acc: 0.2500\n",
            "Epoch 2/10: Train Loss: 1.3889, Train Acc: 0.2504 | Val Loss: 1.3840, Val Acc: 0.2532\n",
            "Epoch 3/10: Train Loss: 1.1081, Train Acc: 0.4274 | Val Loss: 0.5778, Val Acc: 0.7663\n",
            "Epoch 4/10: Train Loss: 0.4374, Train Acc: 0.8434 | Val Loss: 0.3155, Val Acc: 0.8878\n",
            "Epoch 5/10: Train Loss: 0.3179, Train Acc: 0.8914 | Val Loss: 0.2805, Val Acc: 0.9026\n",
            "Epoch 6/10: Train Loss: 0.2747, Train Acc: 0.9065 | Val Loss: 0.2671, Val Acc: 0.9028\n",
            "Epoch 7/10: Train Loss: 0.2465, Train Acc: 0.9151 | Val Loss: 0.2634, Val Acc: 0.9093\n",
            "Epoch 8/10: Train Loss: 0.2261, Train Acc: 0.9216 | Val Loss: 0.2539, Val Acc: 0.9141\n",
            "Epoch 9/10: Train Loss: 0.2108, Train Acc: 0.9270 | Val Loss: 0.2619, Val Acc: 0.9150\n",
            "Epoch 10/10: Train Loss: 0.1978, Train Acc: 0.9321 | Val Loss: 0.2682, Val Acc: 0.9103\n"
          ]
        }
      ],
      "source": [
        "print(\"\\nBắt đầu huấn luyện mô hình...\")\n",
        "best_val_loss = float('inf')\n",
        "\n",
        "for epoch in range(num_epochs):\n",
        "    # Huấn luyện một epoch\n",
        "    train_loss, train_acc = train_epoch(model, train_loader, criterion, optimizer, device)\n",
        "    train_losses.append(train_loss)\n",
        "    train_accuracy.append(train_acc)\n",
        "\n",
        "    # Đánh giá trên tập validation\n",
        "    val_loss, val_acc, _, _ = evaluate(model, test_loader, criterion, device)\n",
        "    valid_losses.append(val_loss)\n",
        "    val_accuracy.append(val_acc)\n",
        "\n",
        "    # Điều chỉnh learning rate\n",
        "    scheduler.step(val_loss)\n",
        "\n",
        "    # Lưu mô hình tốt nhất\n",
        "    if val_loss < best_val_loss:\n",
        "        best_val_loss = val_loss\n",
        "        torch.save(model.state_dict(), 'best_news_classifier.pth')\n",
        "\n",
        "    print(f'Epoch {epoch+1}/{num_epochs}: '\n",
        "          f'Train Loss: {train_loss:.4f}, Train Acc: {train_acc:.4f} | '\n",
        "          f'Val Loss: {val_loss:.4f}, Val Acc: {val_acc:.4f}')\n"
      ]
    },
    {
      "cell_type": "code",
      "execution_count": 24,
      "id": "62959b38",
      "metadata": {
        "colab": {
          "base_uri": "https://localhost:8080/",
          "height": 487
        },
        "id": "62959b38",
        "outputId": "36504765-98d1-4201-92ba-4f18f83e6484"
      },
      "outputs": [
        {
          "data": {
            "image/png": "[encoded data removed]",
            "text/plain": [
              "<Figure size 1200x500 with 2 Axes>"
            ]
          },
          "metadata": {},
          "output_type": "display_data"
        }
      ],
      "source": [
        "plt.figure(figsize=(12, 5))\n",
        "\n",
        "plt.subplot(1, 2, 1)\n",
        "plt.plot(range(1, num_epochs + 1), train_losses, label='Train Loss')\n",
        "plt.plot(range(1, num_epochs + 1), valid_losses, label='Validation Loss')\n",
        "plt.xlabel('Epoch')\n",
        "plt.ylabel('Loss')\n",
        "plt.title('Training and Validation Loss')\n",
        "plt.legend()\n",
        "plt.grid(True)\n",
        "\n",
        "plt.subplot(1, 2, 2)\n",
        "plt.plot(range(1, num_epochs + 1), train_accuracy, label='Train Accuracy')\n",
        "plt.plot(range(1, num_epochs + 1), val_accuracy, label='Validation Accuracy')\n",
        "plt.xlabel('Epoch')\n",
        "plt.ylabel('Accuracy')\n",
        "plt.title('Training and Validation Accuracy')\n",
        "plt.legend()\n",
        "plt.grid(True)\n",
        "\n"
      ]
    },
    {
      "cell_type": "code",
      "execution_count": 25,
      "id": "3a665b58",
      "metadata": {
        "colab": {
          "base_uri": "https://localhost:8080/"
        },
        "id": "3a665b58",
        "outputId": "2083f831-dba9-4245-9d0b-3561139645ed"
      },
      "outputs": [
        {
          "name": "stdout",
          "output_type": "stream",
          "text": [
            "\n",
            "Đánh giá mô hình trên tập test:\n",
            "Test Loss: 0.2539, Test Accuracy: 0.9141\n"
          ]
        }
      ],
      "source": [
        "print(\"\\nĐánh giá mô hình trên tập test:\")\n",
        "model.load_state_dict(torch.load('best_news_classifier.pth'))\n",
        "test_loss, test_acc, test_preds, test_labels = evaluate(model, test_loader, criterion, device)\n",
        "print(f'Test Loss: {test_loss:.4f}, Test Accuracy: {test_acc:.4f}')\n"
      ]
    },
    {
      "cell_type": "code",
      "execution_count": 26,
      "id": "6ed61339",
      "metadata": {
        "colab": {
          "base_uri": "https://localhost:8080/"
        },
        "id": "6ed61339",
        "outputId": "2b99cb84-a233-4057-f90a-6456d41fc6f7"
      },
      "outputs": [
        {
          "name": "stdout",
          "output_type": "stream",
          "text": [
            "\n",
            "Báo cáo phân loại chi tiết:\n",
            "                        precision    recall  f1-score   support\n",
            "\n",
            "                 World       0.92      0.92      0.92      1900\n",
            "                Sports       0.96      0.98      0.97      1900\n",
            "              Business       0.91      0.85      0.88      1900\n",
            "Science and Technology       0.87      0.90      0.88      1900\n",
            "\n",
            "              accuracy                           0.91      7600\n",
            "             macro avg       0.91      0.91      0.91      7600\n",
            "          weighted avg       0.91      0.91      0.91      7600\n",
            "\n"
          ]
        }
      ],
      "source": [
        "print(\"\\nBáo cáo phân loại chi tiết:\")\n",
        "class_names = [class_mapping[str(i+1)] for i in range(num_classes)]\n",
        "print(classification_report(test_labels, test_preds, target_names=class_names))"
      ]
    },
    {
      "cell_type": "code",
      "execution_count": 27,
      "id": "ae0a6da4",
      "metadata": {
        "colab": {
          "base_uri": "https://localhost:8080/"
        },
        "id": "ae0a6da4",
        "outputId": "9ff12f15-4223-444e-d740-188cc6d7c85f"
      },
      "outputs": [
        {
          "name": "stderr",
          "output_type": "stream",
          "text": [
            "/usr/local/lib/python3.11/dist-packages/torch/nn/functional.py:1545: UserWarning: dropout2d: Received a 3D input to dropout2d and assuming that channel-wise 1D dropout behavior is desired - input is interpreted as shape (N, C, L), where C is the channel dim. This behavior will change in a future release to interpret the input as one without a batch dimension, i.e. shape (C, H, W). To maintain the 1D channel-wise dropout behavior, please switch to using dropout1d instead.\n",
            "  warnings.warn(\n"
          ]
        },
        {
          "name": "stdout",
          "output_type": "stream",
          "text": [
            "Mẫu 2468:\n",
            "Văn bản: SAN FRANCISCO - Shawn Green can sit out Saturday knowing he was a huge help to the Dodgers during their crucial series against San Francisco. Green hit a two-run homer in Los Angeles' 3-2 victory over the Giants on Friday night, a day before the first baseman will miss a game to observe the Jewish holiday Yom Kippur...\n",
            "Nhãn thực tế: 1 (World)\n",
            "Dự đoán: 1 (World)\n",
            "----------------------------------------------------------------------------------------------------\n",
            "Mẫu 2101:\n",
            "Văn bản: At a time when more people are cured of cancer than ever before, fewer doctors seem willing to say so. They call the cancer undetectable, or in remission. They tell patients they can quit seeing cancer specialists. They quote statistics and say chances are slim that the disease will come back.\n",
            "Nhãn thực tế: 4 (Science and Technology)\n",
            "Dự đoán: 3 (Business)\n",
            "----------------------------------------------------------------------------------------------------\n",
            "Mẫu 5777:\n",
            "Văn bản: NEW YORK: Boeing Co said today it will manufacture a cargo version of the twin-engine Boeing 777 commercial airliner. Due to enter service late in the fourth quarter of 2008, the Boeing 777 Freighter will \n",
            "Nhãn thực tế: 3 (Business)\n",
            "Dự đoán: 3 (Business)\n",
            "----------------------------------------------------------------------------------------------------\n",
            "Mẫu 6263:\n",
            "Văn bản: An Israeli military court has charged an army officer with illegally using his weapon when he allegedly shot a Palestinian girl who was already dead.\n",
            "Nhãn thực tế: 1 (World)\n",
            "Dự đoán: 1 (World)\n",
            "----------------------------------------------------------------------------------------------------\n",
            "Mẫu 3213:\n",
            "Văn bản:  NEW YORK (Reuters) - Oil prices hit a new record of more  than \\$51 a barrel Tuesday as a prolonged U.S. production outage  following Hurricane Ivan attracted fresh speculative buying.\n",
            "Nhãn thực tế: 3 (Business)\n",
            "Dự đoán: 3 (Business)\n",
            "----------------------------------------------------------------------------------------------------\n",
            "Mẫu 5913:\n",
            "Văn bản: MOSUL, Iraq -- US and Iraqi troops stormed insurgent-held police stations and neighborhoods in this northern city Tuesday, retaking a number of sites seized last week by gunmen who rose up in support of militants in Fallujah.\n",
            "Nhãn thực tế: 1 (World)\n",
            "Dự đoán: 1 (World)\n",
            "----------------------------------------------------------------------------------------------------\n",
            "Mẫu 6963:\n",
            "Văn bản: While the list has dwindled in the search to replace David Cutcliffe as the Ole Miss football coach, one name has risen to the top.\n",
            "Nhãn thực tế: 2 (Sports)\n",
            "Dự đoán: 2 (Sports)\n",
            "----------------------------------------------------------------------------------------------------\n",
            "Mẫu 7:\n",
            "Văn bản: \\\\FOAF/LOAF  and bloom filters have a lot of interesting properties for social\\network and whitelist distribution.\\\\I think we can go one level higher though and include GPG/OpenPGP key\\fingerpring distribution in the FOAF file for simple web-of-trust based key\\distribution.\\\\What if we used FOAF and included the PGP key fingerprint(s) for identities?\\This could mean a lot.  You include the PGP key fingerprints within the FOAF\\file of your direct friends and then include a bloom filter of the PGP key\\fingerprints of your entire whitelist (the source FOAF file would of course need\\to be encrypted ).\\\\Your whitelist would be populated from the social network as your client\\discovered new identit ...\\\\\n",
            "Nhãn thực tế: 4 (Science and Technology)\n",
            "Dự đoán: 4 (Science and Technology)\n",
            "----------------------------------------------------------------------------------------------------\n",
            "Mẫu 1164:\n",
            "Văn bản: AP - Americans appear to be getting used to paying more to drive  #151; even if it means they have less money to buy other things. For example, Wal-Mart Stores Inc., the world's largest retailer, blamed disappointing sales in August on the fact that shoppers spent more just getting to and from its stores.\n",
            "Nhãn thực tế: 3 (Business)\n",
            "Dự đoán: 3 (Business)\n",
            "----------------------------------------------------------------------------------------------------\n",
            "Mẫu 179:\n",
            "Văn bản: AMSTERDAM  Cyclist Leontien Zijlaard-Van Moorsel won the first gold medal for the Netherlands at the Athens Olympic Games on Wednesday. \n",
            "Nhãn thực tế: 2 (Sports)\n",
            "Dự đoán: 2 (Sports)\n",
            "----------------------------------------------------------------------------------------------------\n"
          ]
        }
      ],
      "source": [
        "model.eval()\n",
        "\n",
        "# Lấy ngẫu nhiên 10 mẫu từ tập test\n",
        "test_samples = np.random.choice(len(test_dataset), 10, replace=False)\n",
        "\n",
        "with torch.no_grad():\n",
        "    for idx in test_samples:\n",
        "        inputs, labels = test_dataset[idx]\n",
        "        inputs = inputs.unsqueeze(0).to(device)  # Thêm chiều batch\n",
        "\n",
        "        outputs = model(inputs)\n",
        "        _, predicted = outputs.max(1)\n",
        "\n",
        "        # Xử lý lấy class_mapping cho dự đoán và thực tế\n",
        "        try:\n",
        "            predicted_class_str = str(predicted.item() + 1)\n",
        "            actual_class_str = str(labels.item() + 1)\n",
        "            predicted_name = class_mapping.get(predicted_class_str, f\"Không xác định ({predicted_class_str})\")\n",
        "            actual_name = class_mapping.get(actual_class_str, f\"Không xác định ({actual_class_str})\")\n",
        "        except:\n",
        "            predicted_class_str = str(predicted.item())\n",
        "            actual_class_str = str(labels.item())\n",
        "            predicted_name = f\"Lớp {predicted_class_str}\"\n",
        "            actual_name = f\"Lớp {actual_class_str}\"\n",
        "\n",
        "        print(f\"Mẫu {idx}:\")\n",
        "        print(f\"Văn bản: {test_data.iloc[idx]['description']}\")\n",
        "        print(f\"Nhãn thực tế: {actual_class_str} ({actual_name})\")\n",
        "        print(f\"Dự đoán: {predicted_class_str} ({predicted_name})\")\n",
        "        print(\"-\" * 100)"
      ]
    }
  ],
  "metadata": {
    "accelerator": "GPU",
    "colab": {
      "gpuType": "T4",
      "provenance": []
    },
    "kernelspec": {
      "display_name": "Python 3",
      "name": "python3"
    },
    "language_info": {
      "codemirror_mode": {
        "name": "ipython",
        "version": 3
      },
      "file_extension": ".py",
      "mimetype": "text/x-python",
      "name": "python",
      "nbconvert_exporter": "python",
      "pygments_lexer": "ipython3",
      "version": "3.13.1"
    }
  },
  "nbformat": 4,
  "nbformat_minor": 5
}
